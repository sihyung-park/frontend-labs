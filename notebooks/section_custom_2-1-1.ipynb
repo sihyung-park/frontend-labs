{
 "cells": [
  {
   "cell_type": "raw",
   "metadata": {
    "completion_rule": {
     "min_completed": 3,
     "required_content_count": 3
    },
    "custom_type": "section_start",
    "difficulty": "초급",
    "editable": true,
    "progress_type": "conditional",
    "raw_mimetype": "",
    "section_id": "section_01",
    "section_type": "실습",
    "slideshow": {
     "slide_type": ""
    },
    "tags": [],
    "title": "섹션_01_시작"
   },
   "source": [
    "섹션_01_시작"
   ]
  },
  {
   "cell_type": "markdown",
   "metadata": {
    "editable": true,
    "raw_mimetype": "",
    "slideshow": {
     "slide_type": ""
    },
    "tags": []
   },
   "source": [
    "# 섹션1 "
   ]
  },
  {
   "cell_type": "markdown",
   "metadata": {
    "editable": true,
    "id": "tviQ0ZhyEQJn",
    "slideshow": {
     "slide_type": ""
    },
    "tags": []
   },
   "source": [
    "**[아이스브레이킹] 이번 노드에서 배우는 데이터 전처리 방법 중에 '원-핫 인코딩(one-hot encoding)'이라는 것이 있습니다. 무엇이 핫하길래 원-핫 인코딩이라는 이름이 붙었을까요?**\n",
    "\n",
    "<details>\n",
    "<summary>💡예시답안 확인하기💡</summary>\n",
    "\n",
    "전자 회로와 머신러닝 분야에서, 'one-hot'이라는 표현은 하나의 비트를 1로, 나머지는 모두 0이 되도록 구현하는 방법입니다. 하나의(one) 비트만 높게(hot) 설정되어 있기 때문에 one-hot이라는 이름이 생겼죠. 여담으로, 머신러닝 분야에서 사용되지는 않지만 하나의 비트만 0으로, 나머지를 1로 두는 것은 'one-cold'라고 부른다고 합니다. (자료 출처: 위키피디아)\n",
    "\n",
    "</details>"
   ]
  },
  {
   "cell_type": "markdown",
   "metadata": {
    "editable": true,
    "id": "Op6_-Ft_EXWO",
    "slideshow": {
     "slide_type": ""
    },
    "tags": []
   },
   "source": [
    "## 전처리는 왜 중요할까?\n",
    "---\n",
    "안녕하세요, 오늘은 모델에 데이터를 넣기 전까지의 과정, 즉 데이터 전처리를 집중적으로 볼 것입니다.\n",
    "“데이터 분석의 8할은 데이터 전처리이다.”라는 말이 있습니다. 왜 데이터 분석에서 전처리는 중요한 걸까요?\n",
    "\n",
    "전처리에 따라서 데이터 분석의 질이 달라지기 때문입니다. 전처리가 충분히 되어있지 않거나 잘못된 데이터를 사용한 경우 분석 결과의 신뢰도가 떨어지고, 예측 모델의 정확도도 떨어질 것입니다. 전처리가 잘 되어 있는 경우 데이터 분석의 질이 높아지고 예측 모델의 성능을 높일 수 있습니다.\n",
    "\n",
    "물론 데이터를 전처리하는 작업은 지루해 보일 수 있지만, 꼭 필요한 과정인 만큼 다양한 데이터로 연습을 해보시길 바랍니다.\n",
    "\n",
    "그럼 시작하겠습니다."
   ]
  },
  {
   "cell_type": "markdown",
   "metadata": {
    "editable": true,
    "id": "7YarRCTOHzjH",
    "slideshow": {
     "slide_type": ""
    },
    "tags": []
   },
   "source": [
    "## 데이터를 준비하자!\n",
    "---\n",
    "\n",
    "[trade.csv](https://d3s0tskafalll9.cloudfront.net/media/documents/trade.csv)\n",
    "\n",
    "우선 터미널을 열어 다음과 같이 작업 디렉터리를 구성하고 데이터를 다운로드해 주세요.\n",
    "\n",
    "```bash\n",
    "$ mkdir -p /content/data_preprocess/data\n",
    "$ wget https://d3s0tskafalll9.cloudfront.net/media/documents/trade.csv\n",
    "$ mv trade.csv /content/data_preprocess/data\n",
    "```"
   ]
  },
  {
   "cell_type": "code",
   "execution_count": null,
   "metadata": {
    "editable": true,
    "id": "Eh0huSZlEEEo",
    "slideshow": {
     "slide_type": ""
    },
    "tags": []
   },
   "outputs": [],
   "source": [
    "import pandas as pd\n",
    "import numpy as np\n",
    "import matplotlib.pyplot as plt\n",
    "\n",
    "print(\"👽 Hello.\")"
   ]
  },
  {
   "cell_type": "markdown",
   "metadata": {
    "editable": true,
    "id": "U_vJg4aFFZ1H",
    "slideshow": {
     "slide_type": ""
    },
    "tags": []
   },
   "source": [
    "준비된 trade.csv 파일은 [관세청 수출입 무역 통계](https://tradedata.go.kr/cts/index.do) 에서 가공한 데이터입니다.\n",
    "특정 국가에 대한 월별 수출입 건수와 금액(단위:천 불(USD 1,000))이 있습니다. 무역수지는 수출금액-수입금액이 됩니다."
   ]
  },
  {
   "cell_type": "code",
   "execution_count": null,
   "metadata": {
    "editable": true,
    "id": "K7XyM8-iFZgm",
    "slideshow": {
     "slide_type": ""
    },
    "tags": []
   },
   "outputs": [],
   "source": [
    "import os\n",
    "\n",
    "csv_file_path = '/content/data_preprocess/data/trade.csv'\n",
    "trade = pd.read_csv(csv_file_path)\n",
    "trade.head()"
   ]
  },
  {
   "cell_type": "raw",
   "metadata": {
    "cell_type": "raw",
    "editable": true,
    "metadata": {
     "custom_type": "section_end",
     "editable": true,
     "raw_mimetype": "",
     "section_id": "section_01",
     "slideshow": {
      "slide_type": ""
     },
     "tags": []
    },
    "raw_mimetype": "",
    "slideshow": {
     "slide_type": ""
    },
    "source": [],
    "tags": []
   },
   "source": [
    "섹션_01_종료"
   ]
  },
  {
   "cell_type": "code",
   "execution_count": null,
   "metadata": {
    "completion_rule": {
     "min_completed": 3,
     "required_content_count": 3
    },
    "custom_type": "section_start",
    "difficulty": "초급",
    "editable": true,
    "progress_type": "conditional",
    "raw_mimetype": "",
    "section_id": "section_02",
    "section_type": "실습",
    "slideshow": {
     "slide_type": ""
    },
    "tags": [],
    "title": "섹션_02_시작"
   },
   "outputs": [],
   "source": [
    "섹션_02_시작"
   ]
  },
  {
   "cell_type": "markdown",
   "metadata": {
    "editable": true,
    "id": "ZDCEXe5_FoKO",
    "slideshow": {
     "slide_type": ""
    },
    "tags": []
   },
   "source": [
    "## 학습 목표\n",
    "---\n",
    "- 중복된 데이터를 찾아 제거할 수 있고, 결측치(missing data)를 제거하거나 채워 넣을 수 있습니다.\n",
    "- 데이터를 정규화시킬 수 있습니다.\n",
    "- 이상치(outlier)를 찾고, 이를 처리할 수 있습니다.\n",
    "- 범주형 데이터를 원-핫 인코딩할 수 있습니다.\n",
    "- 연속적인 데이터를 구간으로 나눠 범주형 데이터로 변환할 수 있습니다."
   ]
  },
  {
   "cell_type": "markdown",
   "metadata": {
    "id": "Veu2ciasH5eH"
   },
   "source": [
    "## 학습 목차\n",
    "---\n",
    "1. 결측치(Missing Data)\n",
    "2. 중복된 데이터\n",
    "3. 이상치(Outlier)\n",
    "4. 정규화(Normalization)\n",
    "5. 원-핫 인코딩(One-Hot Encoding)\n",
    "6. 구간화(Binning)"
   ]
  },
  {
   "cell_type": "markdown",
   "metadata": {
    "id": "uBpXtEHBGBpv"
   },
   "source": [
    "# 결측치(Missing Data)\n",
    "현실에서 여러분이 다룰 데이터는 결측치를 포함하고 있는 경우가 많습니다. 물론 데이터를 수집하는 과정에서 누락되지 않도록 하는 것이 더 좋은 방법이지만 이미 결측치가 존재한다면 이를 처리해 주어야 합니다.\n",
    "\n",
    "결측치를 처리하는 방법은 크게 두 가지가 있습니다.\n",
    "\n",
    "1. 결측치가 있는 데이터를 제거한다.\n",
    "2. 결측치를 어떤 값으로 대체한다. (결측치를 대체하는 방법은 다양한데, 데이터마다 특성을 반영하여 해결해야 합니다.)\n",
    "\n",
    "우선 결측치 여부를 먼저 살펴보겠습니다."
   ]
  },
  {
   "cell_type": "code",
   "execution_count": null,
   "metadata": {
    "id": "2Kw2hnYeFZcG"
   },
   "outputs": [],
   "source": [
    "print('전체 데이터 건수:', len(trade))"
   ]
  },
  {
   "cell_type": "markdown",
   "metadata": {
    "id": "WEXqHoPkGJgv"
   },
   "source": [
    "전체 데이터 건수에서 각 컬럼별 값이 있는 데이터 수를 빼주면 컬럼별 결측치의 개수를 알 수 있습니다."
   ]
  },
  {
   "cell_type": "code",
   "execution_count": null,
   "metadata": {
    "id": "jE3lNl1MFZUH"
   },
   "outputs": [],
   "source": [
    "print('컬럼별 결측치 개수')\n",
    "len(trade) - trade.count()"
   ]
  },
  {
   "cell_type": "markdown",
   "metadata": {
    "id": "q5VDYzjdGK3v"
   },
   "source": [
    "`'기타사항'`을 보시면 전부 결측치라는 것을 알 수 있습니다. 이는 아무런 정보가 없는 컬럼이므로 삭제하도록 하겠습니다."
   ]
  },
  {
   "cell_type": "code",
   "execution_count": null,
   "metadata": {
    "id": "FhaUdYomGQnX"
   },
   "outputs": [],
   "source": [
    "trade = trade.drop('기타사항', axis=1)\n",
    "trade.head()"
   ]
  },
  {
   "cell_type": "markdown",
   "metadata": {
    "id": "6wFhkFhxGTe-"
   },
   "source": [
    "`DataFrame.isnull()`은 데이터마다 결측치 여부를 True, False로 반환합니다. `DataFrame.any(axis=1)`는 행마다 하나라도 True가 있으면 True, 그렇지 않으면 False를 반환합니다.\n",
    "두 메서드를 조합하여 결측치가 하나라도 있는 행을 찾아보겠습니다.\n",
    "\n",
    "DataFrame에 `isnull()`을 적용하고, 여기도 또 `any(axis=1)` 메서드를 적용합니다. 이 결과, '각 행이 결측치가 하나라도 있는지' 여부를 불리언 값으로 가진 Series가 출력됩니다."
   ]
  },
  {
   "cell_type": "code",
   "execution_count": null,
   "metadata": {
    "id": "IdS-GI0rGbLw"
   },
   "outputs": [],
   "source": [
    "trade.isnull()"
   ]
  },
  {
   "cell_type": "code",
   "execution_count": null,
   "metadata": {
    "id": "Im7D0KuRGbre"
   },
   "outputs": [],
   "source": [
    "trade.isnull().any(axis=1)"
   ]
  },
  {
   "cell_type": "markdown",
   "metadata": {
    "id": "NxPfV-V8GdJW"
   },
   "source": [
    "`trade.isnull().any(axis=1)`을 다시 DataFrame에 넣어주면 값이 True인 데이터만 추출해 줍니다."
   ]
  },
  {
   "cell_type": "code",
   "execution_count": null,
   "metadata": {
    "id": "y7oTJijpGgbX"
   },
   "outputs": [],
   "source": [
    "trade[trade.isnull().any(axis=1)]"
   ]
  },
  {
   "cell_type": "markdown",
   "metadata": {
    "id": "cVoxbEwTGhSX"
   },
   "source": [
    "index 191 데이터는 수출금액과 무역수지 컬럼이 빠져있고, index 196, 197, 198은 기간, 국가명을 제외하고 모두 결측치입니다. 이 경우 index 191 데이터는 삭제하기보다 특정 값으로 대체하는 것이 좋습니다. 반면 index 196, 197, 198은 제거하는 것이 바람직합니다.\n",
    "\n",
    "우선 '수출건수', '수출금액', '수입건수', '수입금액', '무역수지' 열이 모두 결측치인 index 196, 197, 198을 삭제하겠습니다.\n",
    "\n",
    "DataFrame의 `dropna`는 결측치를 삭제해 주는 메서드입니다. `subset` 옵션으로 특정 컬럼들을 선택했습니다. `how` 옵션으로 선택한 컬럼 전부가 결측치인 행을 삭제하겠다는 의미로 'all'을 선택합니다('any': 하나라도 결측치인 경우). `inplace` 옵션으로 해당 DataFrame 내부에 바로 적용시켰습니다."
   ]
  },
  {
   "cell_type": "code",
   "execution_count": null,
   "metadata": {
    "id": "DkFvlDTTGp5f"
   },
   "outputs": [],
   "source": [
    "trade.dropna(how='all', subset=['수출건수', '수출금액', '수입건수', '수입금액', '무역수지'], inplace=True)\n",
    "print(\"👽 It's okay, no biggie.\")"
   ]
  },
  {
   "cell_type": "code",
   "execution_count": null,
   "metadata": {
    "id": "VTe30YxXGqWe"
   },
   "outputs": [],
   "source": [
    "# Q. 결측치가 하나라도 존재하는 데이터를 다시 확인해봅시다.\n",
    "# [[YOUR CODE]]"
   ]
  },
  {
   "cell_type": "markdown",
   "metadata": {
    "id": "nz-5FNpsGhQG"
   },
   "source": [
    "index 191과 같이 수치형 데이터를 보완할 방법은 많습니다.\n",
    "\n",
    "1. 특정 값을 지정해 줄 수 있습니다. 그러나 결측치가 많은 경우, 모두 같은 값으로 대체한다면 데이터의 분산이 실제보다 작아지는 문제가 생길 수 있습니다.\n",
    "2. 평균, 중앙값 등으로 대체할 수 있습니다. 1번에서 특정 값으로 대체했을 때와 마찬가지로 결측치가 많은 경우 데이터의 분산이 실제보다 작아지는 문제가 발생할 수 있습니다.\n",
    "3. 다른 데이터를 이용해 예측값으로 대체할 수 있습니다. 예를 들어 머신러닝 모델로 2020년 4월 미국의 예측값을 만들고, 이 값으로 결측치를 보완할 수 있습니다.\n",
    "4. 시계열 특성을 가진 데이터의 경우 앞뒤 데이터를 통해 결측치를 대체할 수 있습니다. 예를 들어 기온을 측정하는 센서 데이터에서 결측치가 발생할 경우, 전후 데이터의 평균으로 보완할 수 있습니다.\n",
    "\n",
    "index 191은 4번 방법을 통해 보완하도록 하겠습니다.\n",
    "\n",
    "trade 데이터셋에서 국가명인 미국이며 2020년 3월과 5월 데이터셋을 출력합니다."
   ]
  },
  {
   "cell_type": "code",
   "execution_count": null,
   "metadata": {
    "id": "6vVSczfdGy9H"
   },
   "outputs": [],
   "source": [
    "trade[(trade['국가명']=='미국')&((trade['기간']=='2020년 03월')|(trade['기간']=='2020년 05월'))]"
   ]
  },
  {
   "cell_type": "markdown",
   "metadata": {
    "id": "WXO-Nzq7GhNn"
   },
   "source": [
    "실행 결과 각 항목의 인덱스는 188, 194임을 얻었습니다. index 191의 수출금액 컬럼값을 이전 달과 다음 달의 평균으로 채우도록 합니다."
   ]
  },
  {
   "cell_type": "code",
   "execution_count": null,
   "metadata": {
    "id": "n6i7bEdFG1wP"
   },
   "outputs": [],
   "source": [
    "trade.loc[191, '수출금액'] = (trade.loc[188, '수출금액'] + trade.loc[194, '수출금액'] )/2\n",
    "trade.loc[[191]]"
   ]
  },
  {
   "cell_type": "markdown",
   "metadata": {
    "id": "jBciKFzbGhH3"
   },
   "source": [
    "index 191의 무역수지 컬럼은 수출금액과 수입금액의 차이를 이용하여 채우도록 하겠습니다."
   ]
  },
  {
   "cell_type": "code",
   "execution_count": null,
   "metadata": {
    "id": "-EbVl5elG3SX"
   },
   "outputs": [],
   "source": [
    "# Q. 무역수지 값을 채워주세요!\n",
    "# [[YOUR CODE]]\n",
    "trade.loc[[191]]"
   ]
  },
  {
   "cell_type": "markdown",
   "metadata": {
    "id": "5vVdNl88G5Hv"
   },
   "source": [
    "다른 방법으로도 index 191을 채우는 연습을 해보세요!"
   ]
  },
  {
   "cell_type": "code",
   "execution_count": null,
   "metadata": {
    "id": "p8ikS_XDG5kH"
   },
   "outputs": [],
   "source": [
    "# [Playground] 여러 가지 방법으로 결측치를 채우는 연습을 해보세요.\n",
    "# [[YOUR CODE]]"
   ]
  },
  {
   "cell_type": "markdown",
   "metadata": {
    "id": "6Gscj54oG8b3"
   },
   "source": [
    "지금까지 데이터가 수치형인 경우 결측치를 삭제하거나 대체하는 방법을 실습해 보았습니다. 데이터가 범주형인 경우는 어떻게 해야 할까요? 이는 수치형일 때와 유사합니다.\n",
    "\n",
    "1. 특정 값을 지정해줄 수 있습니다. 예를 들어 ‘기타’, ‘결측’과 같이 새로운 범주를 만들어 결측치를 채울 수 있습니다.\n",
    "2. 최빈값 등으로 대체합니다. 결측치가 많은 경우 최빈값이 지나치게 많아질 수 있으므로 결측치가 많을 때는 다른 방법을 사용하는 것이 좋습니다.\n",
    "3. 다른 데이터를 이용해 예측값으로 대체할 수 있습니다.\n",
    "4. 시계열 특성을 가진 데이터의 경우 앞뒤 데이터를 통해 결측치를 대체할 수 있습니다. 예를 들어 특정인의 2019년 직업이 결측치이고, 2018년과 2020년 직업이 일치한다면 그 값으로 보완할 수 있습니다. 만약 다르다면 둘 중 하나로 보완하도록 합니다."
   ]
  },
  {
   "cell_type": "markdown",
   "metadata": {
    "id": "bTs4IBXoHCFm"
   },
   "source": [
    "# 중복된 데이터\n",
    "데이터를 수집하는 과정에서 중복된 데이터가 생길 수 있습니다. 같은 값을 가진 데이터 없이 행(row)별로 값이 유일해야 한다면 중복된 데이터를 제거해야 합니다.\n",
    "\n",
    "우선 중복된 데이터를 확인합니다. `DataFrame.duplicated()`는 데이터 중복 여부를 불리언 값으로 반환해 줍니다."
   ]
  },
  {
   "cell_type": "code",
   "execution_count": null,
   "metadata": {
    "id": "OBhKnQi2HGkv"
   },
   "outputs": [],
   "source": [
    "trade.duplicated()"
   ]
  },
  {
   "cell_type": "code",
   "execution_count": null,
   "metadata": {
    "id": "MNWHWchhHHW_"
   },
   "outputs": [],
   "source": [
    "trade[trade.duplicated()]"
   ]
  },
  {
   "cell_type": "code",
   "execution_count": null,
   "metadata": {
    "id": "YXWWW64LHHRP"
   },
   "outputs": [],
   "source": [
    "trade[(trade['기간']=='2020년 03월')&(trade['국가명']=='중국')]"
   ]
  },
  {
   "cell_type": "markdown",
   "metadata": {
    "id": "bYqncMumHKgX"
   },
   "source": [
    "index 186, 187이 중복되어 있습니다.\n",
    "pandas에서는 `DataFrame.drop_duplicates`를 통해 중복된 데이터를 손쉽게 삭제할 수 있습니다."
   ]
  },
  {
   "cell_type": "code",
   "execution_count": null,
   "metadata": {
    "id": "YDvXtTaNHHNf"
   },
   "outputs": [],
   "source": [
    "trade.drop_duplicates(inplace=True)\n",
    "print(\"👽 It's okay, no biggie.\")"
   ]
  },
  {
   "cell_type": "code",
   "execution_count": null,
   "metadata": {
    "id": "wwLqMR_MHHA_"
   },
   "outputs": [],
   "source": [
    "trade.drop_duplicates(inplace=True)\n",
    "print(\"👽 It's okay, no biggie.\")"
   ]
  },
  {
   "cell_type": "markdown",
   "metadata": {
    "id": "Q4knxh6RHOgw"
   },
   "source": [
    "`DataFrame.drop_duplicates`를 좀 더 자세히 살펴볼까요?\n",
    "다음과 같이 id와 name을 컬럼으로 갖는 df가 있다고 해봅시다."
   ]
  },
  {
   "cell_type": "code",
   "execution_count": null,
   "metadata": {
    "id": "ld5iY64QHG5n"
   },
   "outputs": [],
   "source": [
    "df = pd.DataFrame({'id':['001', '002', '003', '004', '002'],\n",
    "                   'name':['Park Yun', 'Kim Sung', 'Park Jin', 'Lee Han', 'Kim Min']})\n",
    "df"
   ]
  },
  {
   "cell_type": "markdown",
   "metadata": {
    "id": "40adDaXmHSg_"
   },
   "source": [
    "id가 002인 데이터가 2개 있습니다. id가 사람마다 unique 하다고 할 때, 둘 중 하나는 삭제해야 합니다.\n",
    "index가 클수록 나중에 들어온 데이터이고, 사용자가 이름을 수정했을 때 업데이트가 되지 않고 삽입이 되어 생긴 문제라고 가정합니다. 즉, id가 중복된 경우 맨 나중에 들어온 값만 남겨야 합니다.\n",
    "\n",
    "`DataFrame.drop_duplicates`의 `subset`, `keep` 옵션을 통해 손쉽게 중복을 제거할 수 있습니다.\n",
    "\n",
    "- [DataFrame.drop_duplicates](https://pandas.pydata.org/pandas-docs/stable/reference/api/pandas.DataFrame.drop_duplicates.html)"
   ]
  },
  {
   "cell_type": "code",
   "execution_count": null,
   "metadata": {
    "editable": true,
    "id": "_jJ4YboeHbxf",
    "slideshow": {
     "slide_type": ""
    },
    "tags": []
   },
   "outputs": [],
   "source": [
    "# Q. 링크의 공식 문서를 참고해서,\n",
    "# id가 중복된 경우 나중에 들어온 값만 남기는 코드를 작성해보세요!\n",
    "# ('Kim Sung' 항목이 삭제되어야 합니다.)\n",
    "\n",
    "# [[YOUR CODE]]"
   ]
  },
  {
   "cell_type": "code",
   "execution_count": null,
   "metadata": {
    "cell_type": "raw",
    "editable": true,
    "metadata": {
     "custom_type": "section_end",
     "editable": true,
     "raw_mimetype": "",
     "section_id": "section_02",
     "slideshow": {
      "slide_type": ""
     },
     "tags": []
    },
    "slideshow": {
     "slide_type": ""
    },
    "source": [],
    "tags": []
   },
   "outputs": [],
   "source": [
    "섹션_02_종료"
   ]
  },
  {
   "cell_type": "code",
   "execution_count": null,
   "metadata": {
    "completion_rule": {
     "min_completed": 3,
     "required_content_count": 3
    },
    "custom_type": "section_start",
    "difficulty": "초급",
    "editable": true,
    "progress_type": "conditional",
    "raw_mimetype": "",
    "section_id": "section_03",
    "section_type": "실습",
    "slideshow": {
     "slide_type": ""
    },
    "tags": [],
    "title": "섹션_03_시작"
   },
   "outputs": [],
   "source": [
    "섹션_03_시작"
   ]
  },
  {
   "cell_type": "markdown",
   "metadata": {
    "editable": true,
    "id": "fMeHKBApHdX_",
    "slideshow": {
     "slide_type": ""
    },
    "tags": []
   },
   "source": [
    "# 이상치(Outlier)\n",
    "\n",
    "trade 데이터에서 큰 값을 가지는 이상치가 있다고 가정해 봅시다. 이상치란 대부분 값의 범위에서 벗어나 극단적으로 크거나 작은 값을 의미합니다. Min-Max Scaling 해보면 대부분의 값은 0에 가깝고 이상치만 1에 가까운 값을 가지게 될 것입니다. 이렇게 몇 개의 이상치 때문에 대부분 값의 차이는 의미가 거의 없어지게 됩니다. 극단적인 값이 생기는 경우를 제외하고 데이터를 고려하고 싶은 경우 이상치를 제거하고 분석합니다.\n",
    "\n",
    "그렇다면 이상치를 어떻게 찾아내야 할까요? 현실에서 이상치를 찾는 것(anomaly detection) 자체가 큰 분야입니다.\n",
    "\n",
    "가장 먼저 생각해 볼 수 있는 간단하고 자주 사용되는 방법은 평균과 표준편차를 이용하는 `z score` 방법입니다.\n",
    "평균을 빼주고 표준편차로 나눠 $$\\text{z score} = (\\frac{X-\\mu}{\\sigma})$$를 계산합니다. 그리고 z score가 특정 기준을 넘어서는 데이터에 대해 이상치라고 판단합니다. 기준을 작게 하면 이상치라고 판단하는 데이터가 많아지고, 기준을 크게 하면 이상치라고 판단하는 데이터가 적어집니다.\n",
    "\n",
    "이상치를 판단한 뒤 어떻게 해야 할까요?\n",
    "\n",
    "1. 가장 간단한 방법으로 이상치를 삭제할 수 있습니다. 이상치를 원래 데이터에서 삭제하고, 이상치끼리 따로 분석하는 방안도 있습니다.\n",
    "2. 이상치를 다른 값으로 대체할 수 있습니다. 데이터가 적으면 이상치를 삭제하기보다 다른 값으로 대체하는 것이 나을 수 있습니다. 예를 들어 최댓값, 최솟값을 설정해 데이터의 범위를 제한할 수 있습니다.\n",
    "3. 혹은 결측치와 마찬가지로 다른 데이터를 활용하여 예측 모델을 만들어 예측값을 활용할 수도 있습니다.\n",
    "4. 아니면 binning을 통해 수치형 데이터를 범주형으로 바꿀 수도 있습니다."
   ]
  },
  {
   "cell_type": "markdown",
   "metadata": {
    "id": "w44r0b6LHdVH"
   },
   "source": [
    "## z-score method\n",
    "---\n",
    "이제 우리 데이터를 처리해 봅시다. 이상치인 데이터의 인덱스를 리턴하는 `outlier`라는 함수를 만들었습니다. 데이터프레임 `df`, 컬럼 `col`, 기준 `z`를 인풋으로 받습니다.\n",
    "\n",
    "- `abs(df[col] - np.mean(df[col]))` : 데이터에서 평균을 빼준 것에 절대값을 취합니다.\n",
    "- `abs(df[col] - np.mean(df[col]))/np.std(df[col])` : 위에서 얻은 값을 표준편차로 나눠줍니다.\n",
    "- `df[abs(df[col] - np.mean(df[col]))/np.std(df[col])>z].index`: 값이 z보다 큰 데이터의 인덱스를 추출합니다."
   ]
  },
  {
   "cell_type": "code",
   "execution_count": null,
   "metadata": {
    "id": "cewVArXjJxIf"
   },
   "outputs": [],
   "source": [
    "def outlier(df, col, z):\n",
    "    return df[abs(df[col] - np.mean(df[col]))/np.std(df[col])>z].index\n",
    "print(\"👽 It's okay, no biggie.\")"
   ]
  },
  {
   "cell_type": "code",
   "execution_count": null,
   "metadata": {
    "id": "xHKl9PXNJxyH"
   },
   "outputs": [],
   "source": [
    "trade.loc[outlier(trade, '무역수지', 1.5)]"
   ]
  },
  {
   "cell_type": "code",
   "execution_count": null,
   "metadata": {
    "id": "PrxptXMpJzGX"
   },
   "outputs": [],
   "source": [
    "# Q. 무역수지 값을 기준으로 z=2일 때 이상치 데이터를 출력해보세요.\n",
    "# [[YOUR CODE]]"
   ]
  },
  {
   "cell_type": "code",
   "execution_count": null,
   "metadata": {
    "id": "Kr1KcHsOJz7P"
   },
   "outputs": [],
   "source": [
    "# Q. 무역수지 값을 기준으로 z=3일 때 이상치 데이터를 출력해보세요.\n",
    "# [[YOUR CODE]]"
   ]
  },
  {
   "cell_type": "markdown",
   "metadata": {
    "id": "LdN65lvYHdRf"
   },
   "source": [
    "무역수지의 이상치를 확인하는데 기준 되는 값이 클수록 이상치가 적어지는 것을 확인할 수 있습니다.\n",
    "이제 `not_outlier`라는 함수를 통해 무역수지가 이상치 값이 아닌 데이터만 추출하도록 하겠습니다."
   ]
  },
  {
   "cell_type": "code",
   "execution_count": null,
   "metadata": {
    "id": "wb8fttiYJ3bZ"
   },
   "outputs": [],
   "source": [
    "# Q. not_outlier() 함수를 구현하세요.\n",
    "# [[YOUR CODE]]\n",
    "print(\"👽 It's okay, no biggie.\")"
   ]
  },
  {
   "cell_type": "code",
   "execution_count": null,
   "metadata": {
    "id": "0EfwrBIyJ4Xn"
   },
   "outputs": [],
   "source": [
    "trade.loc[not_outlier(trade, '무역수지', 1.5)]"
   ]
  },
  {
   "cell_type": "markdown",
   "metadata": {
    "id": "2_TPGKLKHdNP"
   },
   "source": [
    "## IQR method\n",
    "---\n",
    "하지만 이상치를 찾는 방법에는 위에 설명한 z-score 방법만 있는 것은 아닙니다. 그리고 z-score 방법은 몇 가지 뚜렷한 한계점을 가지고 있습니다. z-score 방법의 대안으로 사분위 범위수 IQR(Interquartile range) 로 이상치를 알아내는 방법을 알아보겠습니다.\n",
    "\n",
    "이해를 돕기 위해 아웃라이어가 포함된 임의의 데이터를 만들어보겠습니다."
   ]
  },
  {
   "cell_type": "code",
   "execution_count": null,
   "metadata": {
    "id": "2-9SJ_xxJ8wI"
   },
   "outputs": [],
   "source": [
    "np.random.seed(2020)\n",
    "data = np.random.randn(100)  # 평균 0, 표준편차 1의 분포에서 100개의 숫자를 샘플링한 데이터 생성\n",
    "data = np.concatenate((data, np.array([8, 10, -3, -5])))      # [8, 10, -3, -5])를 데이터 뒤에 추가함\n",
    "data"
   ]
  },
  {
   "cell_type": "markdown",
   "metadata": {
    "id": "6tY7oovKHdJn"
   },
   "source": [
    "아래의 박스 플롯에서 박스를 벗어난 점들이 보이시나요?"
   ]
  },
  {
   "cell_type": "code",
   "execution_count": null,
   "metadata": {
    "id": "oLYv-3ckJ-2B"
   },
   "outputs": [],
   "source": [
    "fig, ax = plt.subplots()\n",
    "ax.boxplot(data)\n",
    "plt.show()"
   ]
  },
  {
   "cell_type": "markdown",
   "metadata": {
    "id": "pqZN9t43HdG_"
   },
   "source": [
    "우리는 사분위 범위수 IQR(Interquartile range)을 이용하여 이상치를 찾아낼 수 있습니다.\n",
    "\n",
    "$$\\text{IQR}=\\text{Q}_{3}-\\text{Q}_{1}$$\n",
    "\n",
    "즉, IQR은 제 3사분위수에서 제 1사분위 값을 뺀 값으로 데이터의 중간 50%의 범위라고 생각하시면 됩니다. $$\\text{Q}_{1} - 1.5 \\times \\text{IQR}$$\n",
    "보다 왼쪽에 있거나, $$\\text{Q}_{3}+1.5 \\times \\text{IQR}$$보다 오른쪽에 있는 경우 우리는 이상치라고 판단합니다.\n",
    "\n",
    "아래 그림을 보면 이 식의 의미가 좀 더 와닿을 겁니다."
   ]
  },
  {
   "cell_type": "markdown",
   "metadata": {
    "id": "WPoLgFoUK4SH"
   },
   "source": [
    "![image.png](data:image/png;base64,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)\n",
    "\n",
    "[출처 : https://en.wikipedia.org/wiki/Interquartile_range]"
   ]
  },
  {
   "cell_type": "markdown",
   "metadata": {
    "id": "JUKGBf64LH_Y"
   },
   "source": [
    "IQR을 구하기 위해 우선 제1사분위수와 제 3사분위수를 구합니다."
   ]
  },
  {
   "cell_type": "code",
   "execution_count": null,
   "metadata": {
    "id": "dMyuBptrK9tf"
   },
   "outputs": [],
   "source": [
    "Q3, Q1 = np.percentile(data, [75 ,25])\n",
    "IQR = Q3 - Q1\n",
    "IQR"
   ]
  },
  {
   "cell_type": "markdown",
   "metadata": {
    "id": "iDnV6i_SLLeY"
   },
   "source": [
    "IQR과 제 1사분위수, 제 3사분위수를 이용하여 이상치를 확인할 수 있습니다."
   ]
  },
  {
   "cell_type": "code",
   "execution_count": null,
   "metadata": {
    "id": "xttWXp0UK566"
   },
   "outputs": [],
   "source": [
    "data[(Q1-1.5*IQR > data)|(Q3+1.5*IQR < data)]"
   ]
  },
  {
   "cell_type": "markdown",
   "metadata": {
    "id": "54RdbiDKLNUn"
   },
   "source": [
    "위에서 z-score 방법과 IQR 방법에 대해서 알아보았습니다. 그럼 다음 링크의 아티클을 읽어보고 질문에 답해 봅시다.\n",
    "\n",
    "- [이상치 탐지를 하는 세가지 방법](https://modulabs.co.kr/blog/outlier-detection)"
   ]
  },
  {
   "cell_type": "markdown",
   "metadata": {
    "id": "ntkW0uEPLVoY"
   },
   "source": [
    "**Q. 이 글에서 말하는 z-score 방법이 가지는 뚜렷한 단점 2가지가 무엇인가요?**\n",
    "\n",
    "A. ① Robust하지 못합니다. 왜나하면 평균과 표준편차 자체가 이상치의 존재에 크게 영향을 받기 때문입니다.\n",
    "② 작은 데이터셋의 경우 z-score의 방법으로 이상치를 알아내기 어렵습니다. 특히 item이 12개 이하인 데이터셋에서는 불가능합니다."
   ]
  },
  {
   "cell_type": "markdown",
   "metadata": {
    "id": "wMX8Fb_tLZ0X"
   },
   "source": [
    "무역수지를 기준으로 이상치를 찾는 실습을 해보도록 하겠습니다. 아래 코드에서 outlier2(df, col) 메서드를 구현해 보세요."
   ]
  },
  {
   "cell_type": "code",
   "execution_count": null,
   "metadata": {
    "editable": true,
    "id": "Ila2hzFfLY8-",
    "slideshow": {
     "slide_type": ""
    },
    "tags": []
   },
   "outputs": [],
   "source": [
    "# Q. 사분위 범위수를 이용해서 이상치를 찾는 outlier2() 함수를 구현해보세요.\n",
    "def outlier2(df, col):\n",
    "    # [[YOUR CODE]]\n",
    "\n",
    "outlier2(trade, '무역수지')"
   ]
  },
  {
   "cell_type": "code",
   "execution_count": null,
   "metadata": {
    "cell_type": "raw",
    "editable": true,
    "metadata": {
     "custom_type": "section_end",
     "editable": true,
     "raw_mimetype": "",
     "section_id": "section_03",
     "slideshow": {
      "slide_type": ""
     },
     "tags": []
    },
    "slideshow": {
     "slide_type": ""
    },
    "source": [],
    "tags": []
   },
   "outputs": [],
   "source": [
    "섹션_03_종료"
   ]
  },
  {
   "cell_type": "code",
   "execution_count": null,
   "metadata": {
    "completion_rule": {
     "min_completed": 3,
     "required_content_count": 3
    },
    "custom_type": "section_start",
    "difficulty": "초급",
    "editable": true,
    "progress_type": "conditional",
    "raw_mimetype": "",
    "section_id": "section_04",
    "section_type": "실습",
    "slideshow": {
     "slide_type": ""
    },
    "tags": [],
    "title": "섹션_04_시작"
   },
   "outputs": [],
   "source": [
    "섹션_04_시작"
   ]
  },
  {
   "cell_type": "markdown",
   "metadata": {
    "editable": true,
    "id": "1Tk5jTH1Mc_Y",
    "slideshow": {
     "slide_type": ""
    },
    "tags": []
   },
   "source": [
    "# 정규화(Normalization)\n",
    "rade 데이터를 보면 수입건수, 수출건수와 수입금액, 수출금액, 무역수지는 단위가 다르다는 것을 알 수 있습니다.\n",
    "\n",
    "이처럼 컬럼마다 스케일이 크게 차이가 나는 데이터를 입력하면 머신러닝 모델 학습에 문제가 발생할 수 있습니다. 예를 들어 데이터의 범위가 0에서 1 사이인 컬럼 A과 1000에서 10000 사이인 컬럼 B가 있다고 생각해 봅시다. 이런 데이터를 클러스터링 한다고 가정해 봅시다. 데이터 간의 거리를 잴 때, 범위가 큰 컬럼 B의 값에만 영향을 크게 받을 것입니다. 다른 예시로 간단한 linear regression을 한다고 가정해 봅시다. 모델의 파라미터를 업데이트하는 과정에서 범위가 큰 컬럼 B의 파라미터만 집중적으로 업데이트하는 문제가 생길 수 있습니다. 그래서 일반적으로 컬럼 간에 범위가 크게 다를 경우 전처리 과정에서 데이터를 정규화합니다.\n",
    "\n",
    "정규화를 하는 방법은 다양하지만, 가장 잘 알려진 표준화(Standardization)와 Min-Max Scaling을 알아보도록 하겠습니다.\n",
    "\n",
    "- **Standardization**\n",
    "    - 데이터의 평균은 0, 분산은 1로 변환합니다.\n",
    "    - Standardization은 보통 평균이 0이고 표준편차가 1일 때 사용합니다. 그렇기에 데이터가 가우시안 분포를 따를 경우 유용합니다.\n",
    "$$\\frac{X-\\mu}{\\sigma}$$\n",
    "\n",
    "- **Min-Max Scaling**\n",
    "    - 데이터의 최솟값은 0, 최댓값은 1로 변환합니다.\n",
    "    - Min-Max Scaling은 피처의 범위가 다를 때 주로 사용하며 확률 분포를 모를 때 유용합니다.\n",
    "\\$$\\frac{X-X_{min}}{X_{max}-X_{min}}$$\n",
    "\n",
    "정규화 기법이 데이터의 분포를 어떻게 바꾸는지 살펴볼까요? 우선 임의의 데이터를 생성하고, 각각의 기법으로 데이터를 정규화시켜줍니다."
   ]
  },
  {
   "cell_type": "code",
   "execution_count": null,
   "metadata": {
    "id": "b9QR1IicNKFo"
   },
   "outputs": [],
   "source": [
    "# 정규분포를 따라 랜덤하게 데이터 x를 생성합니다.\n",
    "x = pd.DataFrame({'A': np.random.randn(100)*4+4,\n",
    "                 'B': np.random.randn(100)-1})\n",
    "x"
   ]
  },
  {
   "cell_type": "code",
   "execution_count": null,
   "metadata": {
    "id": "tm2hy4iRNLGQ"
   },
   "outputs": [],
   "source": [
    "# 데이터 x를 Standardization 기법으로 정규화합니다.\n",
    "x_standardization = (x-x.mean())/x.std()\n",
    "x_standardization"
   ]
  },
  {
   "cell_type": "code",
   "execution_count": null,
   "metadata": {
    "id": "cFyu8lHRNMWo"
   },
   "outputs": [],
   "source": [
    "# 데이터 x를 min-max scaling 기법으로 정규화합니다.\n",
    "x_min_max = (x-x.min())/(x.max()-x.min())\n",
    "x_min_max"
   ]
  },
  {
   "cell_type": "markdown",
   "metadata": {
    "id": "DWUREdqnNNkA"
   },
   "source": [
    "다음 이미지는 데이터를 standardization 기법으로 정규화를 했을 때 분포가 어떻게 바뀌는지 보여줍니다. 즉, 각 컬럼의 평균은 0으로, 분산은 1로 데이터를 바꿔줍니다."
   ]
  },
  {
   "cell_type": "code",
   "execution_count": null,
   "metadata": {
    "id": "ahEplT78NOBA"
   },
   "outputs": [],
   "source": [
    "fig, axs = plt.subplots(1,2, figsize=(12, 4),\n",
    "                        gridspec_kw={'width_ratios': [2, 1]})\n",
    "\n",
    "axs[0].scatter(x['A'], x['B'])\n",
    "axs[0].set_xlim(-5, 15)\n",
    "axs[0].set_ylim(-5, 5)\n",
    "axs[0].axvline(c='grey', lw=1)\n",
    "axs[0].axhline(c='grey', lw=1)\n",
    "axs[0].set_title('Original Data')\n",
    "\n",
    "axs[1].scatter(x_standardization['A'], x_standardization['B'])\n",
    "axs[1].set_xlim(-5, 5)\n",
    "axs[1].set_ylim(-5, 5)\n",
    "axs[1].axvline(c='grey', lw=1)\n",
    "axs[1].axhline(c='grey', lw=1)\n",
    "axs[1].set_title('Data after standardization')\n",
    "\n",
    "plt.show()"
   ]
  },
  {
   "cell_type": "markdown",
   "metadata": {
    "id": "QqegyN-rNQEJ"
   },
   "source": [
    "다음 이미지는 동일한 데이터를 min-max scaling 기법으로 정규화를 했을 때 분포가 어떻게 바뀌는지 보여줍니다. 즉, 각 컬럼의 최솟값은 0, 최댓값은 1로 바꿔줍니다."
   ]
  },
  {
   "cell_type": "code",
   "execution_count": null,
   "metadata": {
    "id": "u1KRwmsoNRgc"
   },
   "outputs": [],
   "source": [
    "fig, axs = plt.subplots(1,2, figsize=(12, 4),\n",
    "                        gridspec_kw={'width_ratios': [2, 1]})\n",
    "\n",
    "axs[0].scatter(x['A'], x['B'])\n",
    "axs[0].set_xlim(-5, 15)\n",
    "axs[0].set_ylim(-5, 5)\n",
    "axs[0].axvline(c='grey', lw=1)\n",
    "axs[0].axhline(c='grey', lw=1)\n",
    "axs[0].set_title('Original Data')\n",
    "\n",
    "axs[1].scatter(x_min_max['A'], x_min_max['B'])\n",
    "axs[1].set_xlim(-5, 5)\n",
    "axs[1].set_ylim(-5, 5)\n",
    "axs[1].axvline(c='grey', lw=1)\n",
    "axs[1].axhline(c='grey', lw=1)\n",
    "axs[1].set_title('Data after min-max scaling')\n",
    "\n",
    "plt.show()"
   ]
  },
  {
   "cell_type": "markdown",
   "metadata": {
    "id": "Dcq0ABDuNQCI"
   },
   "source": [
    "그럼 우리가 가진 trade 데이터를 살펴봅시다."
   ]
  },
  {
   "cell_type": "markdown",
   "metadata": {
    "id": "qiNljLtUNP_4"
   },
   "source": [
    "## Standardization\n",
    "---\n",
    "우선 정규화를 시켜야 할 수치형 컬럼들을 cols 변수에 담은 후, 데이터에서 평균을 빼고, 표준편차로 나눠주도록 합니다."
   ]
  },
  {
   "cell_type": "code",
   "execution_count": null,
   "metadata": {
    "id": "duJnYqaENWro"
   },
   "outputs": [],
   "source": [
    "# trade 데이터를 standardization 기법으로 정규화합니다.\n",
    "cols = ['수출건수', '수출금액', '수입건수', '수입금액', '무역수지']\n",
    "trade_standardization = (trade[cols]-trade[cols].mean())/trade[cols].std()\n",
    "trade_standardization.head()"
   ]
  },
  {
   "cell_type": "markdown",
   "metadata": {
    "id": "P_vaBocCNPyo"
   },
   "source": [
    "standardization 방법으로 정규화시킨 `trade_standardization`을 확인해 보겠습니다. 각 컬럼의 평균들을 보면 거의 0에 가깝고, 표준편차는 1에 가까운 것을 확인하실 수 있습니다."
   ]
  },
  {
   "cell_type": "code",
   "execution_count": null,
   "metadata": {
    "id": "dXEB21ygNZt4"
   },
   "outputs": [],
   "source": [
    "trade_standardization.describe()"
   ]
  },
  {
   "cell_type": "markdown",
   "metadata": {
    "id": "ZF_IEIzjNaSQ"
   },
   "source": [
    "## Min-Max Scaling\n",
    "---\n",
    "데이터에서 최솟값을 빼주고, '최댓값-최솟값'으로 나눠줍니다."
   ]
  },
  {
   "cell_type": "code",
   "execution_count": null,
   "metadata": {
    "id": "5TnU4mxTNdh4"
   },
   "outputs": [],
   "source": [
    "# Q. trade 데이터를 min-max scaling 기법으로 정규화합니다.\n",
    "trade[cols] = # [[YOUR CODE]]\n",
    "trade.head()"
   ]
  },
  {
   "cell_type": "markdown",
   "metadata": {
    "id": "K2C8L8AANqsJ"
   },
   "source": [
    "min-max scaling 방법으로 정규화시킨 후, 각 컬럼의 최솟값(min)은 0이고, 최댓값(max)은 1임을 확인할 수 있습니다.\n",
    "\n",
    "우리는 실제로 해당 값에 대한 분포를 정확하게 모르기 때문에 standardization보다 min-max scaling을 사용해 정규화하겠습니다."
   ]
  },
  {
   "cell_type": "code",
   "execution_count": null,
   "metadata": {
    "id": "PEuKQSZ8NsHA"
   },
   "outputs": [],
   "source": [
    "trade.describe()"
   ]
  },
  {
   "cell_type": "markdown",
   "metadata": {
    "id": "JZTUI68aNqpu"
   },
   "source": [
    "주의!!\n",
    "\n",
    "train 데이터와 test 데이터가 나눠져 있는 경우 **train 데이터를 정규화시켰던 기준 그대로 test 데이터도 정규화**시켜줘야 합니다."
   ]
  },
  {
   "cell_type": "code",
   "execution_count": null,
   "metadata": {
    "id": "44NrjxbpN7Oo"
   },
   "outputs": [],
   "source": [
    "train = pd.DataFrame([[10, -10], [30, 10], [50, 0]])\n",
    "test = pd.DataFrame([[0, 1], [10, 10]])\n",
    "print(\"👽 It's okay, no biggie.\")"
   ]
  },
  {
   "cell_type": "markdown",
   "metadata": {
    "id": "9ntIGyVxN8Ix"
   },
   "source": [
    "아래 코드를 자세히 보시기 바랍니다."
   ]
  },
  {
   "cell_type": "code",
   "execution_count": null,
   "metadata": {
    "id": "JFXqN_iHN8jc"
   },
   "outputs": [],
   "source": [
    "# Q. train 데이터와 test 데이터에 정규화를 적용해봅시다.\n",
    "train_min = train.min()\n",
    "train_max = train.max()\n",
    "\n",
    "# 중요한 점은, test 데이터에 min-max scaling을 적용할 때도\n",
    "# train 데이터 기준으로 수행해야 한다는 것입니다.\n",
    "train_min_max = # [[YOUR CODE]]\n",
    "test_min_max = # [[YOUR CODE]]\n",
    "\n",
    "print(\"💫 It's okay, no biggie...\")"
   ]
  },
  {
   "cell_type": "code",
   "execution_count": null,
   "metadata": {
    "id": "Y5PRBI9CN93A"
   },
   "outputs": [],
   "source": [
    "train_min_max"
   ]
  },
  {
   "cell_type": "code",
   "execution_count": null,
   "metadata": {
    "id": "iJVCXvKZN_JQ"
   },
   "outputs": [],
   "source": [
    "test_min_max"
   ]
  },
  {
   "cell_type": "markdown",
   "metadata": {
    "id": "cRG2PPPuNqnY"
   },
   "source": [
    "scikit-learn의 `StandardScaler`, `MinMaxScaler`를 사용하는 방법도 있습니다."
   ]
  },
  {
   "cell_type": "code",
   "execution_count": null,
   "metadata": {
    "id": "n6Ek0bmgODXQ"
   },
   "outputs": [],
   "source": [
    "from sklearn.preprocessing import MinMaxScaler\n",
    "train = [[10, -10], [30, 10], [50, 0]]\n",
    "test = [[0, 1]]\n",
    "scaler = MinMaxScaler()\n",
    "print(\"👽 It's okay, no biggie.\")"
   ]
  },
  {
   "cell_type": "code",
   "execution_count": null,
   "metadata": {
    "id": "oZ07Y-4GOEUo"
   },
   "outputs": [],
   "source": [
    "scaler.fit_transform(train)"
   ]
  },
  {
   "cell_type": "code",
   "execution_count": null,
   "metadata": {
    "id": "G6B7RtnROFHY"
   },
   "outputs": [],
   "source": [
    "scaler.transform(test)"
   ]
  },
  {
   "cell_type": "markdown",
   "metadata": {
    "editable": true,
    "id": "edneV_xMAr9y",
    "slideshow": {
     "slide_type": ""
    },
    "tags": []
   },
   "source": [
    "[![Image](https://img.youtube.com/vi/FDCfw-YqWTE/0.jpg)](https://youtu.be/FDCfw-YqWTE)"
   ]
  },
  {
   "cell_type": "code",
   "execution_count": null,
   "metadata": {
    "cell_type": "raw",
    "editable": true,
    "metadata": {
     "custom_type": "section_end",
     "editable": true,
     "raw_mimetype": "",
     "section_id": "section_04",
     "slideshow": {
      "slide_type": ""
     },
     "tags": []
    },
    "slideshow": {
     "slide_type": ""
    },
    "source": [],
    "tags": []
   },
   "outputs": [],
   "source": [
    "섹션_04_종료"
   ]
  },
  {
   "cell_type": "code",
   "execution_count": null,
   "metadata": {
    "completion_rule": {
     "min_completed": 3,
     "required_content_count": 3
    },
    "custom_type": "section_start",
    "difficulty": "초급",
    "editable": true,
    "progress_type": "conditional",
    "raw_mimetype": "",
    "section_id": "section_05",
    "section_type": "실습",
    "slideshow": {
     "slide_type": ""
    },
    "tags": [],
    "title": "섹션_05_시작"
   },
   "outputs": [],
   "source": [
    "섹션_05_시작"
   ]
  },
  {
   "cell_type": "markdown",
   "metadata": {
    "editable": true,
    "id": "7-zzo2RZQx7J",
    "slideshow": {
     "slide_type": ""
    },
    "tags": []
   },
   "source": [
    "# 원-핫 인코딩(One-Hot Encoding)\n",
    "이제 범주형 데이터인 국가명 컬럼을 다뤄보도록 하겠습니다.\n",
    "머신러닝이나 딥러닝 프레임워크에서 범주형을 지원하지 않는 경우 원-핫 인코딩을 해야 합니다.\n",
    "\n",
    "원-핫 인코딩이란 카테고리별 이진 특성을 만들어 해당하는 특성만 1, 나머지는 0으로 만드는 방법입니다. 그럼, pandas로 국가명 컬럼을 원-핫 인코딩을 해보겠습니다.\n",
    "\n",
    "pandas에서 `get_dummies` 함수를 통해 손쉽게 원-핫 인코딩을 할 수 있습니다."
   ]
  },
  {
   "cell_type": "code",
   "execution_count": null,
   "metadata": {
    "id": "MSSNBY_PQ2SS"
   },
   "outputs": [],
   "source": [
    "#trade 데이터의 국가명 컬럼 원본\n",
    "print(trade['국가명'].head())\n",
    "\n",
    "# get_dummies를 통해 국가명 원-핫 인코딩\n",
    "country = pd.get_dummies(trade['국가명'])\n",
    "country.head()"
   ]
  },
  {
   "cell_type": "markdown",
   "metadata": {
    "id": "1ITnBl5rQ3z4"
   },
   "source": [
    "`pd.concat` 함수로 데이터프레임 trade와 country를 합쳐줍니다."
   ]
  },
  {
   "cell_type": "code",
   "execution_count": null,
   "metadata": {
    "id": "_32mtpJtQ5Rh"
   },
   "outputs": [],
   "source": [
    "trade = pd.concat([trade, country], axis=1)\n",
    "trade.head()"
   ]
  },
  {
   "cell_type": "markdown",
   "metadata": {
    "id": "lxVWutDzQ6xB"
   },
   "source": [
    "이제는 필요 없어진 국가명 컬럼을 삭제해 주고 나면 trade는 우리가 원하는 데이터프레임이 됩니다."
   ]
  },
  {
   "cell_type": "code",
   "execution_count": null,
   "metadata": {
    "id": "4ZZNV7oUQ7ho"
   },
   "outputs": [],
   "source": [
    "trade.drop(['국가명'], axis=1, inplace=True)\n",
    "trade.head()"
   ]
  },
  {
   "cell_type": "markdown",
   "metadata": {
    "id": "vOlvVJB2Q9SS"
   },
   "source": [
    "# 구간화(Binning)\n",
    "지금까지 trade 데이터를 다루면서 다양 전처리 기법을 배웠습니다. 이제 다른 전처리 기법을 배워보도록 하겠습니다.\n",
    "\n",
    "salary에 소득 데이터가 있다고 합시다."
   ]
  },
  {
   "cell_type": "code",
   "execution_count": null,
   "metadata": {
    "id": "jT9DZJK6Q_U5"
   },
   "outputs": [],
   "source": [
    "salary = pd.Series([4300, 8370, 1750, 3830, 1840, 4220, 3020, 2290, 4740, 4600,\n",
    "                    2860, 3400, 4800, 4470, 2440, 4530, 4850, 4850, 4760, 4500,\n",
    "                    4640, 3000, 1880, 4880, 2240, 4750, 2750, 2810, 3100, 4290,\n",
    "                    1540, 2870, 1780, 4670, 4150, 2010, 3580, 1610, 2930, 4300,\n",
    "                    2740, 1680, 3490, 4350, 1680, 6420, 8740, 8980, 9080, 3990,\n",
    "                    4960, 3700, 9600, 9330, 5600, 4100, 1770, 8280, 3120, 1950,\n",
    "                    4210, 2020, 3820, 3170, 6330, 2570, 6940, 8610, 5060, 6370,\n",
    "                    9080, 3760, 8060, 2500, 4660, 1770, 9220, 3380, 2490, 3450,\n",
    "                    1960, 7210, 5810, 9450, 8910, 3470, 7350, 8410, 7520, 9610,\n",
    "                    5150, 2630, 5610, 2750, 7050, 3350, 9450, 7140, 4170, 3090])\n",
    "print(\"👽 Almost there..\")"
   ]
  },
  {
   "cell_type": "markdown",
   "metadata": {
    "id": "EjfNxGqPRAOo"
   },
   "source": [
    "이 데이터를 구간별로 나누고자 합니다. 이러한 기법을 구간화(`Data binning `혹은 `bucketing`)이라고 부릅니다.\n",
    "\n",
    "아래 히스토그램과 같이 연속적인 데이터를 구간을 나눠 분석할 때 사용하는 방법입니다."
   ]
  },
  {
   "cell_type": "code",
   "execution_count": null,
   "metadata": {
    "id": "o-LOT59kREsR"
   },
   "outputs": [],
   "source": [
    "salary.hist()"
   ]
  },
  {
   "cell_type": "markdown",
   "metadata": {
    "id": "8ei060bZRAKA"
   },
   "source": [
    "pandas의 `cut` 과 `qcut`을 이용해 수치형 데이터를 범주형 데이터로 변형시키도록 하겠습니다.\n",
    "\n",
    "`cut`을 사용하기 위해 우선 구간을 정해줍니다."
   ]
  },
  {
   "cell_type": "code",
   "execution_count": null,
   "metadata": {
    "id": "BdAmQTgiRK75"
   },
   "outputs": [],
   "source": [
    "bins = [0, 2000, 4000, 6000, 8000, 10000]\n",
    "print(\"👽 Almost there..\")"
   ]
  },
  {
   "cell_type": "markdown",
   "metadata": {
    "id": "OsFkcvkPRKoR"
   },
   "source": [
    "cut 함수에 데이터와 구간을 입력하면 데이터를 구간별로 나눠줍니다."
   ]
  },
  {
   "cell_type": "code",
   "execution_count": null,
   "metadata": {
    "id": "W9kt96J0RNfq"
   },
   "outputs": [],
   "source": [
    "ctg = pd.cut(salary, bins=bins)\n",
    "ctg"
   ]
  },
  {
   "cell_type": "markdown",
   "metadata": {
    "id": "JNTdmLbjRAE5"
   },
   "source": [
    "`salary[0]`는 4300으로 4000에서 6000 사이에 포함되었다는 것을 확인할 수 있습니다."
   ]
  },
  {
   "cell_type": "code",
   "execution_count": null,
   "metadata": {
    "id": "r7s8cXh7RQwh"
   },
   "outputs": [],
   "source": [
    "print('salary[0]:', salary[0])\n",
    "print('salary[0]가 속한 카테고리:', ctg[0])"
   ]
  },
  {
   "cell_type": "markdown",
   "metadata": {
    "id": "V_aa6f_NRABx"
   },
   "source": [
    "구간별로 값이 몇 개가 속해 있는지 `value_counts()`로 확인해 보겠습니다."
   ]
  },
  {
   "cell_type": "code",
   "execution_count": null,
   "metadata": {
    "id": "Jw7o78a5RT_Z"
   },
   "outputs": [],
   "source": [
    "ctg.value_counts().sort_index()"
   ]
  },
  {
   "cell_type": "markdown",
   "metadata": {
    "id": "uKBfxs0BRVeB"
   },
   "source": [
    "이렇게 특정 구간을 지정해 줘도 되고, 구간의 개수를 지정해 줄 수도 있습니다. `bins` 옵션에 정수를 입력하면 데이터의 최솟값에서 최댓값을 균등하게 `bins `개수만큼 나눠줍니다."
   ]
  },
  {
   "cell_type": "code",
   "execution_count": null,
   "metadata": {
    "id": "gQ3AeyjsRYWg"
   },
   "outputs": [],
   "source": [
    "# Q. 'bins' 옵션에 6을 입력해서 cut() 함수를 사용해보세요.\n",
    "# [[YOUR CODE]]\n",
    "ctg"
   ]
  },
  {
   "cell_type": "code",
   "execution_count": null,
   "metadata": {
    "id": "GUPCDiswRZKB"
   },
   "outputs": [],
   "source": [
    "# Q. 구간별로 값이 몇 개가 있는지 확인해봅시다.\n",
    "# [[YOUR CODE]]"
   ]
  },
  {
   "cell_type": "markdown",
   "metadata": {
    "id": "bjQpxB30Rcvh"
   },
   "source": [
    "`qcut`은 구간을 일정하게 나누는 것이 아니라 데이터의 분포를 비슷한 크기의 그룹으로 나눠줍니다."
   ]
  },
  {
   "cell_type": "code",
   "execution_count": null,
   "metadata": {
    "id": "3MNxqpczRdWR"
   },
   "outputs": [],
   "source": [
    "ctg = pd.qcut(salary, q=5)\n",
    "ctg"
   ]
  },
  {
   "cell_type": "code",
   "execution_count": null,
   "metadata": {
    "id": "HNNMu5RIRfvp"
   },
   "outputs": [],
   "source": [
    "print(ctg.value_counts().sort_index())\n",
    "print(\".\\n.\\n🛸 Well done!\")"
   ]
  },
  {
   "cell_type": "markdown",
   "metadata": {
    "id": "RgXNbCu0RcsB"
   },
   "source": [
    "## 마무리와 복습 과제\n",
    "---\n",
    "현실에서 여러분이 만날 데이터는 깨끗하지 않은 경우가 많습니다. 그래서 오늘은 표 데이터 전처리하는 방법을 배웠습니다. 어떤 내용을 다뤘는지 키워드로 살펴보겠습니다.\n",
    "\n",
    "- 결측치(Missing Data)\n",
    "- 중복된 데이터\n",
    "- 이상치(Outlier)\n",
    "- 정규화(Normalization)\n",
    "- 원-핫 인코딩(One-Hot Encoding)\n",
    "- 구간화(Binning)\n",
    "\n",
    "위의 내용을 배웠지만 모든 데이터에 일괄적으로 적용해야 하는 것은 아닙니다. 데이터 전처리는 데이터의 특성을 파악해서 해야 합니다. 그래서 다소 번거롭게 느껴질 수 있지만 꼭 해야 하는 과정인 만큼 복습해 보시기를 권합니다. 남는 시간 동안 아래 데이터셋의 전처리 과정을 진행해 보세요.\n",
    "\n",
    "[vgsales.csv](https://d3s0tskafalll9.cloudfront.net/media/documents/vgsales.csv)\n",
    "\n",
    "들어가며 스텝에서 정상적으로 심볼릭 링크를 거셨다면 이미 여러분의 실습 폴더 `~/aiffel/data_preprocess/data` 로 옮겨져있을 것입니다.\n",
    "\n",
    "위 데이터의 출처는 캐글의 [Video Game Sales](https://www.kaggle.com/gregorut/videogamesales) 데이터셋입니다. 16,500개 이상의 비디오 게임에 대한 매출 정보 등이 담겨 있습니다. 혹시 게임을 좋아하시는 분께는 아주 흥미로운 데이터셋이 될지도 모르겠습니다. 위에 언급된 전처리 기법 중 다수를 시도해 볼 수 있는 데이터셋이므로, 오늘 배운 기법들이 본인의 것이 될 수 있도록 복습을 통해 다시 한번 개념을 다져보시기를 권합니다.\n",
    "\n",
    "이외에도 여러분이 가진 표 데이터를 직접 전처리해 보시면 더욱 흥미롭게 하실 수 있습니다. 데이터가 없다면 [공공데이터포털](https://www.data.go.kr/), [캐글](https://www.kaggle.com/)에서 관심 있는 분야의 데이터를 찾아보시기 바랍니다.\n",
    "\n",
    "수고하셨습니다! 🛸"
   ]
  },
  {
   "cell_type": "markdown",
   "metadata": {
    "id": "Wh24D8SUA_eK"
   },
   "source": [
    "## 종합퀴즈\n",
    "---"
   ]
  },
  {
   "cell_type": "markdown",
   "metadata": {
    "id": "TCPFvwYBBCOa"
   },
   "source": [
    "**Q. 수치형 데이터의 결측치를 채우는 방법은 어떤 것들이 있었나요?**\n",
    "\n",
    "<details>\n",
    "<summary>💡예시답안 확인하기💡</summary>\n",
    "\n",
    "① 특정 값을 지정해 줄 수 있습니다. 그러나 결측치가 많은 경우, 모두 같은 값으로 대체한다면 데이터의 분산이 실제보다 작아지는 문제가 생길 수 있습니다.  \n",
    "② 평균, 중앙값 등으로 대체할 수 있습니다. 1번에서 특정 값으로 대체했을 때와 마찬가지로 결측치가 많은 경우 데이터의 분산이 실제보다 작아지는 문제가 발생할 수 있습니다.  \n",
    "③ 다른 데이터를 이용해 예측값으로 대체할 수 있습니다. 예를 들어 머신러닝 모델로 예측값을 만들고, 이 값으로 결측치를 보완할 수 있습니다.  \n",
    "④ 시계열 특성을 가진 데이터의 경우 앞뒤 데이터를 통해 결측치를 대체할 수 있습니다. 예를 들어 기온을 측정하는 센서 데이터에서 결측치가 발생할 경우, 전후 데이터의 평균으로 보완할 수 있습니다.\n",
    "</details>"
   ]
  },
  {
   "cell_type": "markdown",
   "metadata": {
    "id": "gPzlhuvlBPHK"
   },
   "source": [
    "**Q. 원-핫 인코딩은 분류(classification) 문제를 해결하는 딥러닝 모델을 구현할 때도 많이 사용됩니다. 예를 들어 0부터 9까지의 손글씨 숫자를 인식하는 모델이 있죠. 0부터 9까지의 카테고리를 원-핫 인코딩으로 표현할 때, `4`와 `7`의 원-핫 인코딩 결과는 어떻게 될까요?  \n",
    "(원-핫 인코딩 결과의 각 특성은 순서대로 0부터 9에 해당된다고 가정합니다.)**\n",
    "\n",
    "<details>\n",
    "<summary>💡예시답안 확인하기💡</summary>\n",
    "\n",
    "4 → [0, 0, 0, 0, 1, 0, 0, 0, 0, 0]  \n",
    "7 → [0, 0, 0, 0, 0, 0, 0, 1, 0, 0]\n",
    "<details>"
   ]
  },
  {
   "cell_type": "markdown",
   "metadata": {
    "editable": true,
    "id": "rFH5etFVNqhY",
    "slideshow": {
     "slide_type": ""
    },
    "tags": []
   },
   "source": [
    "이번 스텝에서 언급하지 않았지만, **로그 변환** 등의 기법도 정규화와 함께 사용하면 도움이 될 수 있다는 것도 기억해 주세요!"
   ]
  },
  {
   "cell_type": "code",
   "execution_count": null,
   "metadata": {
    "cell_type": "raw",
    "editable": true,
    "metadata": {
     "custom_type": "section_end",
     "editable": true,
     "raw_mimetype": "",
     "section_id": "section_05",
     "setction_type": "final",
     "slideshow": {
      "slide_type": ""
     },
     "tags": []
    },
    "slideshow": {
     "slide_type": ""
    },
    "source": [],
    "tags": []
   },
   "outputs": [],
   "source": [
    "섹션_05_종료"
   ]
  }
 ],
 "metadata": {
  "colab": {
   "provenance": []
  },
  "kernelspec": {
   "display_name": "Python 3 (ipykernel)",
   "language": "python",
   "name": "python3"
  },
  "language_info": {
   "codemirror_mode": {
    "name": "ipython",
    "version": 3
   },
   "file_extension": ".py",
   "mimetype": "text/x-python",
   "name": "python",
   "nbconvert_exporter": "python",
   "pygments_lexer": "ipython3",
   "version": "3.12.10"
  }
 },
 "nbformat": 4,
 "nbformat_minor": 4
}
