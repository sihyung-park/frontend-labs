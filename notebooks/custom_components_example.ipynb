{
  "cells": [
    {
      "cell_type": "markdown",
      "metadata": {},
      "source": [
        "### 🔹 1. 유튜브 영상 컴포넌트"
      ]
    },
    {
      "cell_type": "raw",
      "metadata": {
        "custom_type": "video_embed",
        "video_url": "https://www.youtube.com/watch?v=dQw4w9WgXcQ",
        "title": "리눅스 환경 설정 강의"
      },
      "source": []
    },
    {
      "cell_type": "markdown",
      "metadata": {},
      "source": [
        "### 🔹 2. 퀴즈 컴포넌트"
      ]
    },
    {
      "cell_type": "raw",
      "metadata": {
        "custom_type": "quiz_choice",
        "question": "Python에서 리스트의 길이를 구하는 함수는?",
        "options": [
          "size()",
          "count()",
          "length()",
          "len()"
        ],
        "answer_index": 3
      },
      "source": []
    },
    {
      "cell_type": "markdown",
      "metadata": {},
      "source": [
        "### 🔹 3. 파일 제출 컴포넌트"
      ]
    },
    {
      "cell_type": "raw",
      "metadata": {
        "custom_type": "project_node",
        "submit_type": "file",
        "title": "과제 1: Pandas 기초 실습",
        "description": "CSV 파일을 로드하고 간단한 통계 분석을 수행한 .ipynb 파일을 제출하세요.",
        "file_types": [
          ".ipynb"
        ],
        "max_file_size_mb": 10,
        "deadline": "2025-04-30T23:59:59Z"
      },
      "source": []
    }
  ],
  "metadata": {
    "kernelspec": {
      "display_name": "Python 3",
      "language": "python",
      "name": "python3"
    },
    "language_info": {
      "name": "python",
      "version": "3.8.5"
    }
  },
  "nbformat": 4,
  "nbformat_minor": 5
}