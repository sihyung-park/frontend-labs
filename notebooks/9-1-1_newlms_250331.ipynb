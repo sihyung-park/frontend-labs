{
  "nbformat": 4,
  "nbformat_minor": 0,
  "metadata": {
    "colab": {
      "provenance": []
    },
    "kernelspec": {
      "name": "python3",
      "display_name": "Python 3"
    },
    "language_info": {
      "name": "python"
    }
  },
  "cells": [
    {
      "cell_type": "markdown",
      "source": [
        "# 프로젝트 1 : 손수 설계하는 선형회귀, 당뇨병 수치를 맞춰보자!\n",
        "첫 번째 프로젝트에서는 우리가 오늘 많은 시간을 들여서 직접 실습해 보았던 모델 설계, 손실함수 정의와 기울기 계산을 구현해 보겠습니다.  \n",
        "새로운 데이터로 프로젝트를 진행하지만, 과정은 모두 동일합니다. 함께 진행했던 과정과 코드를 참고하여 충분히 고민한 후 진행해 보세요.\n",
        "\n",
        "데이터는 `sklearn.datasets`에 있는 데이터 중 하나인 당뇨병 데이터를 사용하겠습니다.  \n",
        "데이터에 관한 정보를 다음 글에서 살펴보세요. 데이터에 대한 이해는 언제나 첫 번째로 해야하는 필수 과정입니다!\n",
        "\n",
        "- [당뇨병(diabetes) 데이터셋 예시로 보는 다중 선형 회귀](https://modulabs.co.kr/blog/diabetes-dataset-multi-linear-regression/)\n",
        "\n",
        "다음 과정을 차례대로 진행해주세요!"
      ],
      "metadata": {
        "id": "qi6ALcSUKS_h"
      }
    },
    {
      "cell_type": "markdown",
      "source": [
        "## (1) 데이터 가져오기\n",
        "---\n",
        "- `sklearn.datasets`의 `load_diabetes`에서 데이터를 가져와주세요.\n",
        "- `diabetes`의 `data`를 `df_X`에, `target`을 `df_y`에 저장해주세요."
      ],
      "metadata": {
        "id": "hiA70i8dKS9h"
      }
    },
    {
      "cell_type": "code",
      "source": [],
      "metadata": {
        "id": "w2r1nOApKqwK"
      },
      "execution_count": null,
      "outputs": []
    },
    {
      "cell_type": "markdown",
      "source": [
        "## (2) 모델에 입력할 데이터 `X` 준비하기\n",
        "---\n",
        "- `df_X`에 있는 값들을 numpy array로 변환해서 저장해주세요."
      ],
      "metadata": {
        "id": "Hb498G_7KS7x"
      }
    },
    {
      "cell_type": "code",
      "source": [],
      "metadata": {
        "id": "YF1yBtNHKw6i"
      },
      "execution_count": null,
      "outputs": []
    },
    {
      "cell_type": "markdown",
      "source": [
        "## (3) 모델에 예측할 데이터 `y` 준비하기\n",
        "---\n",
        "- `df_y`에 있는 값들을 `numpy array`로 변환해서 저장해주세요."
      ],
      "metadata": {
        "id": "0Iocuq-UKS5p"
      }
    },
    {
      "cell_type": "code",
      "source": [],
      "metadata": {
        "id": "NLomTMdeK26h"
      },
      "execution_count": null,
      "outputs": []
    },
    {
      "cell_type": "markdown",
      "source": [
        "## (4) train 데이터와 test 데이터로 분리하기\n",
        "---\n",
        "- `X`와 `y` 데이터를 각각 train 데이터와 test 데이터로 분리해주세요."
      ],
      "metadata": {
        "id": "MXHtRgJjKS05"
      }
    },
    {
      "cell_type": "code",
      "source": [],
      "metadata": {
        "id": "ZNwu63lHLC1E"
      },
      "execution_count": null,
      "outputs": []
    },
    {
      "cell_type": "markdown",
      "source": [
        "## (5) 모델 준비하기\n",
        "---\n",
        "- 입력 데이터 개수에 맞는 가중치 `W`와 `b`를 준비해주세요.\n",
        "- 모델 함수를 구현해주세요."
      ],
      "metadata": {
        "id": "YkT-UAgkKSjK"
      }
    },
    {
      "cell_type": "code",
      "source": [],
      "metadata": {
        "id": "wyKcXqF5LCCR"
      },
      "execution_count": null,
      "outputs": []
    },
    {
      "cell_type": "markdown",
      "source": [
        "## (6) 손실함수 `loss` 정의하기\n",
        "---\n",
        "- 손실함수를 MSE 함수로 정의해주세요."
      ],
      "metadata": {
        "id": "hvzyx9zxKTa6"
      }
    },
    {
      "cell_type": "code",
      "source": [],
      "metadata": {
        "id": "aqM7q4MwLLaZ"
      },
      "execution_count": null,
      "outputs": []
    },
    {
      "cell_type": "markdown",
      "source": [
        "## (7) 기울기를 구하는 `gradient` 함수 구현하기\n",
        "---\n",
        "- 기울기를 계산하는 `gradient` 함수를 구현해주세요."
      ],
      "metadata": {
        "id": "CFGOTun2KTa7"
      }
    },
    {
      "cell_type": "code",
      "source": [],
      "metadata": {
        "id": "wE_pa1_fLL9B"
      },
      "execution_count": null,
      "outputs": []
    },
    {
      "cell_type": "markdown",
      "source": [
        "## (8) 하이퍼 파라미터인 학습률 설정하기\n",
        "---\n",
        "- 학습률, learning rate 를 설정해주세요\n",
        "- 만약 학습이 잘 되지 않는다면 learning rate 값을 한번 여러 가지로 설정하며 실험해 보세요."
      ],
      "metadata": {
        "id": "4woBzHx8KTa7"
      }
    },
    {
      "cell_type": "code",
      "source": [],
      "metadata": {
        "id": "-0T224k8LQ85"
      },
      "execution_count": null,
      "outputs": []
    },
    {
      "cell_type": "markdown",
      "source": [
        "## (9) 모델 학습하기\n",
        "---\n",
        "- 정의된 손실함수와 기울기 함수로 모델을 학습해주세요.\n",
        "- loss값이 충분히 떨어질 때까지 학습을 진행해주세요.\n",
        "- 입력하는 데이터인 `X`에 들어가는 특성 컬럼들을 몇 개 빼도 괜찮습니다. 다양한 데이터로 실험해 보세요."
      ],
      "metadata": {
        "id": "ql7F9KElKTa7"
      }
    },
    {
      "cell_type": "code",
      "source": [],
      "metadata": {
        "id": "T8A5LwU8LXs5"
      },
      "execution_count": null,
      "outputs": []
    },
    {
      "cell_type": "markdown",
      "source": [
        "## (10) test 데이터에 대한 성능 확인하기\n",
        "---\n",
        "- test 데이터에 대한 성능을 확인해주세요."
      ],
      "metadata": {
        "id": "EIztpBeZKTa7"
      }
    },
    {
      "cell_type": "code",
      "source": [],
      "metadata": {
        "id": "JaUjrfGBLdgh"
      },
      "execution_count": null,
      "outputs": []
    },
    {
      "cell_type": "markdown",
      "source": [
        "## (11) 정답 데이터와 예측한 데이터 시각화하기\n",
        "---\n",
        "- x축에는 X 데이터의 첫 번째 컬럼을, y축에는 정답인 target 데이터를 넣어서 모델이 예측한 데이터를 시각화해 주세요."
      ],
      "metadata": {
        "id": "bTkIBJJ1KTa7"
      }
    },
    {
      "cell_type": "code",
      "source": [],
      "metadata": {
        "id": "50Ru-ZjcLd9B"
      },
      "execution_count": null,
      "outputs": []
    },
    {
      "cell_type": "markdown",
      "source": [
        "# 프로젝트 2 : 날씨 좋은 월요일 오후 세 시, 자전거 타는 사람은 몇 명?\n",
        "자.. 드디어 오늘의 마지막 프로젝트입니다! 오늘 노드의 제목이기도 한 프로젝트네요 ㅎㅎ  \n",
        "마지막 프로젝트로는 보다 실용적인 데이터셋을 활용할 예정입니다. 바로 그 유명한 캐글(Kaggle) 경진대회에서 제공하는 데이터셋인데요!\n",
        "\n",
        "데이터셋의 주제는 시간, 온도, 습도, 계절 등의 정보가 담긴 데이터를 통해 자전거의 대여량을 예측하는 문제입니다.  \n",
        "자전거 대여량을 결정하는 데에는 시간도 중요할 것이고, 요일이나 계절도 크게 영향을 미칠 것 같습니다.\n",
        "\n",
        "이번 프로젝트에서는 직접 손실함수와 기울기를 계산하지 않고, 사이킷런(`sklearn`)의 LinearRegression 모델을 활용할 것입니다.  \n",
        "이 또한 위에서 진행해봤던 순서 그대로 진행하시면 됩니다!\n",
        "\n",
        "단계는 다음과 같이 정리가 되어 있습니다. 그러면 오늘의 마지막 프로젝트, 시작해 볼까요!!! 💪🏼"
      ],
      "metadata": {
        "id": "ihjYpd35KTd3"
      }
    },
    {
      "cell_type": "markdown",
      "source": [
        "## (1) 데이터 가져오기\n",
        "---\n",
        "터미널에서 `~/data/data/bike-sharing-demand` 경로에 `train.csv` 데이터를 train 변수로 가져 옵니다.\n",
        "[여기](https://www.kaggle.com/c/bike-sharing-demand/data)에서 데이터를 상세히 확인할 수 있습니다."
      ],
      "metadata": {
        "id": "beLhEliTKTd4"
      }
    },
    {
      "cell_type": "code",
      "source": [],
      "metadata": {
        "id": "l-Pc-a3dMuoR"
      },
      "execution_count": null,
      "outputs": []
    },
    {
      "cell_type": "markdown",
      "source": [
        "## (2) `datetime` 컬럼을 `datetime` 자료형으로 변환하고 연, 월, 일, 시, 분, 초까지 6가지 컬럼 생성하기\n",
        "---\n",
        "- `to_datetime` 활용 : [링크](https://pandas.pydata.org/pandas-docs/stable/reference/api/pandas.to_datetime.html#pandas.to_datetime) 참조\n",
        "- pandas datetime extract year month day 키워드로 검색해 보기"
      ],
      "metadata": {
        "id": "JVXLBTN_KTd4"
      }
    },
    {
      "cell_type": "code",
      "source": [],
      "metadata": {
        "id": "DLod9N9hMuLx"
      },
      "execution_count": null,
      "outputs": []
    },
    {
      "cell_type": "markdown",
      "source": [
        "## (3) `year`, `month`, `day`, `hour`, `minute`, `second` 데이터 개수 시각화하기\n",
        "---\n",
        "- `sns.countplot` 활용해서 시각화하기\n",
        "- `subplot`을 활용해서 한 번에 6개의 그래프 함께 시각화하기"
      ],
      "metadata": {
        "id": "OLsjYWSVKTd4"
      }
    },
    {
      "cell_type": "code",
      "source": [],
      "metadata": {
        "id": "2Ikltm1ZMt5C"
      },
      "execution_count": null,
      "outputs": []
    },
    {
      "cell_type": "markdown",
      "source": [
        "## (4) `X`, `y` 컬럼 선택 및 train/test 데이터 분리\n",
        "---\n",
        "- `X`(feature) 에는 어떤 데이터 컬럼을 넣어야 될지 고민해 봅시다 데이터 컬럼을 추가하거나 빼면서 잘 조합하여 데이터를 넣기 바랍니다. 만일 모든 데이터 컬럼(특징)을 넣는다면 오차 값이 말도 안 되게 적게 나올 수도 있습니다. ex) count를 예측하는데 casual,registered 컬럼이 필요할까요?\n",
        "\n",
        "- `count` 값을 맞추고자 하므로, `y` 변수에 `count` 컬럼의 데이터 넣기"
      ],
      "metadata": {
        "id": "eHqYZtKMKTd4"
      }
    },
    {
      "cell_type": "code",
      "source": [],
      "metadata": {
        "id": "zCuZm3-HMtXB"
      },
      "execution_count": null,
      "outputs": []
    },
    {
      "cell_type": "markdown",
      "source": [
        "## (5) LinearRegression 모델 학습\n",
        "---\n",
        "- `sklearn`의 `LinearRegression` 모델 불러오기 및 학습하기"
      ],
      "metadata": {
        "id": "l6TaWOuPKTd4"
      }
    },
    {
      "cell_type": "code",
      "source": [],
      "metadata": {
        "id": "AlwaznUJMtKq"
      },
      "execution_count": null,
      "outputs": []
    },
    {
      "cell_type": "markdown",
      "source": [
        "## (6) 학습된 모델로 `X_test`에 대한 예측값 출력 및 손실함수값 계산\n",
        "---\n",
        "- 학습된 모델에 `X_test`를 입력해서 예측값 출력하기\n",
        "- 모델이 예측한 값과 정답 target 간의 손실함수 값 계산하기\n",
        "- mse 값과 함께 rmse 값도 계산하기"
      ],
      "metadata": {
        "id": "lkcGox3YKTgo"
      }
    },
    {
      "cell_type": "code",
      "source": [],
      "metadata": {
        "id": "WRBy7i-tMsvp"
      },
      "execution_count": null,
      "outputs": []
    },
    {
      "cell_type": "markdown",
      "source": [
        "## (7) x축은 `temp` 또는 `humidity`로, y축은 `count`로 예측 결과 시각화하기\n",
        "---\n",
        "- x축에 X 데이터 중 `temp` 데이터를, y축에는 count 데이터를 넣어서 시각화하기\n",
        "- x축에 X 데이터 중 `humidity` 데이터를, y축에는 count 데이터를 넣어서 시각화하기\n",
        "이전\n",
        "프로젝트"
      ],
      "metadata": {
        "id": "0aB3XrwJKTgo"
      }
    },
    {
      "cell_type": "code",
      "source": [],
      "metadata": {
        "id": "2HqJCWUDMsVy"
      },
      "execution_count": null,
      "outputs": []
    }
  ]
}